{
 "cells": [
  {
   "cell_type": "markdown",
   "metadata": {},
   "source": [
    "# Computation of $\\Delta\\Gamma_d$ from effective lifetime measurements of $B^0 \\to$ CP-eigenstate decays"
   ]
  },
  {
   "cell_type": "code",
   "execution_count": 32,
   "metadata": {},
   "outputs": [],
   "source": [
    "import numpy as np\n",
    "from iminuit import Minuit\n",
    "from uncertainties import ufloat, correlated_values"
   ]
  },
  {
   "cell_type": "markdown",
   "metadata": {},
   "source": [
    "Relations between the effective lifetimes of $B^0\\to J/\\psi K_S$ and $B^0\\to J/\\psi K_S$ and the parameters $\\Gamma$, $\\Delta\\Gamma$ and CKM-angle $\\beta$. From arXiv:1109.5115"
   ]
  },
  {
   "cell_type": "code",
   "execution_count": 33,
   "metadata": {},
   "outputs": [],
   "source": [
    "def tauKst(G, DG):\n",
    "    return 1/G*1/(1 - (DG/(2*G))**2)*(1 + (DG/(2*G))**2)\n",
    "def tauKS(G, DG, beta):\n",
    "    return 1/G*1/(1 - (DG/(2*G))**2)*(1 + 2*np.cos(2*beta)*(DG/(2*G)) + (DG/(2*G))**2)/(1+np.cos(2*beta)*(DG/(2*G)))"
   ]
  },
  {
   "cell_type": "markdown",
   "metadata": {},
   "source": [
    "Define the function to be minimised. Need choices here about the systematic uncertainties that are correlated/uncorrelated."
   ]
  },
  {
   "cell_type": "code",
   "execution_count": 34,
   "metadata": {},
   "outputs": [],
   "source": [
    "def fcn_lhcb(G, DG, beta):  \n",
    "    # LHCb 1/fb results\n",
    "    tKst  = 1.5239\n",
    "    dtKst_stat        = 0.0063\n",
    "    dtKst_syst_total  = 0.0039\n",
    "    dtKst_syst_uncorr = np.sqrt(2.3**2 + 1.8**2 + 1.2**2 + 0.2**2)/1000.\n",
    "    dtKst_syst_corr   = np.sqrt(2.3**2 + 0.2**2 + 0.3**2)/1000.\n",
    "    \n",
    "    tKS  = 1.4987\n",
    "    dtKS_stat        = 0.0129\n",
    "    dtKS_syst_total  = 0.0048\n",
    "    dtKS_syst_uncorr = np.sqrt(2.9**2 + 2.1**2 + 2.0**2 + 2.2**2)/1000.\n",
    "    dtKS_syst_corr   = np.sqrt(0.9**2 + 0.4**2 + 0.3**2 + 1.1**2 + 0.3**2)/1000.\n",
    "    \n",
    "    rho = 1.\n",
    "    \n",
    "    # Constraint on CKM beta\n",
    "    beta_constraint = 21.5/180*np.pi\n",
    "    dbeta = 0.8/180*np.pi\n",
    "\n",
    "    diff = np.matrix([tKst - tauKst(G,DG), tKS - tauKS(G, DG, beta), beta - beta_constraint])\n",
    "    covMatrixStat = np.matrix([[dtKst_stat*dtKst_stat,0,0],[0,dtKS_stat*dtKS_stat,0],[0,0,dbeta*dbeta]])\n",
    "    covMatrixSyst = np.matrix([ [dtKst_syst_uncorr*dtKst_syst_uncorr ,dtKst_syst_corr*dtKS_syst_corr*rho,0]\n",
    "                               ,[dtKst_syst_corr  *dtKS_syst_corr*rho,dtKS_syst_uncorr*dtKS_syst_uncorr,0]\n",
    "                               ,[0,0,0]])\n",
    "    # Turn off either the stat or syst uncertainties to check how they impact the combination\n",
    "    #covMatrixStat = np.matrix([[0,0,0],[0,0,0],[0,0,dbeta*dbeta]])\n",
    "    #covMatrixSyst = np.matrix([[0,0,0],[0,0,0],[0,0,0]])\n",
    "    chisq = diff*(covMatrixStat + covMatrixSyst).I*diff.transpose()\n",
    "    return chisq[0,0]"
   ]
  },
  {
   "cell_type": "code",
   "execution_count": 50,
   "metadata": {},
   "outputs": [],
   "source": [
    "def fcn_cms(G, DG, beta):\n",
    "    c_light = 299.792458\n",
    "    \n",
    "    # CMS results\n",
    "    tKst = 453.0/c_light\n",
    "    dtKst_stat        = 1.6/c_light\n",
    "    dtKst_syst_total  = 1.8/c_light\n",
    "    dtKst_syst_uncorr = np.sqrt(1.1**2 + 0.3**2)/c_light\n",
    "    dtKst_syst_corr   = np.sqrt(0.3**2 + 0.1**2 + 1.3**2)/c_light\n",
    "    \n",
    "    tKS  = 457.8/c_light\n",
    "    dtKS_stat        = 2.7/c_light\n",
    "    dtKS_syst_total  = 2.8/c_light\n",
    "    dtKS_syst_uncorr = 2.4/c_light\n",
    "    dtKS_syst_corr   = np.sqrt(0.4**2 + 0.1**2 + 1.3**2)/c_light\n",
    "    \n",
    "    # Assume fully correlated\n",
    "    rho = 1.\n",
    "    \n",
    "    # Constraint on CKM beta\n",
    "    beta_constraint = 21.9/180*np.pi\n",
    "    dbeta = 0.7/180*np.pi\n",
    "\n",
    "    diff = np.matrix([tKst - tauKst(G,DG), tKS - tauKS(G, DG, beta), beta - beta_constraint])\n",
    "    covMatrixStat = np.matrix([[dtKst_stat*dtKst_stat,0,0],[0,dtKS_stat*dtKS_stat,0],[0,0,dbeta*dbeta]])\n",
    "    covMatrixSyst = np.matrix([ [dtKst_syst_uncorr*dtKst_syst_uncorr,dtKst_syst_corr*dtKS_syst_corr*rho,0]\n",
    "                               ,[dtKst_syst_corr*dtKS_syst_corr*rho,dtKS_syst_uncorr*dtKS_syst_uncorr,0]\n",
    "                               ,[0,0,0]])\n",
    "    # Turn off either the stat or syst uncertainties to check how they impact the combination\n",
    "    #covMatrixSyst = np.matrix([[0,0,0],[0,0,0],[0,0,0]])\n",
    "    #covMatrixStat = np.matrix([[0,0,0],[0,0,0],[0,0,0]])\n",
    "    chisq = diff*(covMatrixStat + covMatrixSyst).I*diff.transpose()\n",
    "    return chisq[0,0]"
   ]
  },
  {
   "cell_type": "markdown",
   "metadata": {},
   "source": [
    "Do the minimisation"
   ]
  },
  {
   "cell_type": "code",
   "execution_count": 51,
   "metadata": {},
   "outputs": [
    {
     "name": "stderr",
     "output_type": "stream",
     "text": [
      "/usr/local/lib/swan/ipykernel/__main__.py:1: InitialParamWarning: errordef is not given. Default to 1.\n",
      "  if __name__ == '__main__':\n",
      "/usr/local/lib/swan/ipykernel/__main__.py:1: InitialParamWarning: Parameter G is floating but does not have initial step size. Assume 1.\n",
      "  if __name__ == '__main__':\n",
      "/usr/local/lib/swan/ipykernel/__main__.py:1: InitialParamWarning: Parameter DG is floating but does not have initial step size. Assume 1.\n",
      "  if __name__ == '__main__':\n",
      "/usr/local/lib/swan/ipykernel/__main__.py:1: InitialParamWarning: Parameter beta does not have initial value. Assume 0.\n",
      "  if __name__ == '__main__':\n",
      "/usr/local/lib/swan/ipykernel/__main__.py:1: InitialParamWarning: Parameter beta is floating but does not have initial step size. Assume 1.\n",
      "  if __name__ == '__main__':\n"
     ]
    },
    {
     "data": {
      "text/html": [
       "<hr>"
      ]
     },
     "metadata": {},
     "output_type": "display_data"
    },
    {
     "data": {
      "text/html": [
       "\n",
       "        <table>\n",
       "            <tr>\n",
       "                <td title=\"Minimum value of function\">FCN = 3.9865021644996643e-07</td>\n",
       "                <td title=\"Total number of call to FCN so far\">TOTAL NCALL = 66</td>\n",
       "                <td title=\"Number of call in last migrad\">NCALLS = 66</td>\n",
       "            </tr>\n",
       "            <tr>\n",
       "                <td title=\"Estimated distance to minimum\">EDM = 3.9865341068533205e-07</td>\n",
       "                <td title=\"Maximum EDM definition of convergence\">GOAL EDM = 1e-05</td>\n",
       "                <td title=\"Error def. Amount of increase in FCN to be defined as 1 standard deviation\">\n",
       "                UP = 1.0</td>\n",
       "            </tr>\n",
       "        </table>\n",
       "        \n",
       "        <table>\n",
       "            <tr>\n",
       "                <td align=\"center\" title=\"Validity of the migrad call\">Valid</td>\n",
       "                <td align=\"center\" title=\"Validity of parameters\">Valid Param</td>\n",
       "                <td align=\"center\" title=\"Is Covariance matrix accurate?\">Accurate Covar</td>\n",
       "                <td align=\"center\" title=\"Positive definiteness of covariance matrix\">PosDef</td>\n",
       "                <td align=\"center\" title=\"Was covariance matrix made posdef by adding diagonal element\">Made PosDef</td>\n",
       "            </tr>\n",
       "            <tr>\n",
       "                <td align=\"center\" style=\"background-color:#92CCA6\">True</td>\n",
       "                <td align=\"center\" style=\"background-color:#92CCA6\">True</td>\n",
       "                <td align=\"center\" style=\"background-color:#92CCA6\">True</td>\n",
       "                <td align=\"center\" style=\"background-color:#92CCA6\">True</td>\n",
       "                <td align=\"center\" style=\"background-color:#92CCA6\">False</td>\n",
       "            </tr>\n",
       "            <tr>\n",
       "                <td align=\"center\" title=\"Was last hesse call fail?\">Hesse Fail</td>\n",
       "                <td align=\"center\" title=\"Validity of covariance\">HasCov</td>\n",
       "                <td align=\"center\" title=\"Is EDM above goal EDM?\">Above EDM</td>\n",
       "                <td align=\"center\"></td>\n",
       "                <td align=\"center\" title=\"Did last migrad call reach max call limit?\">Reach calllim</td>\n",
       "            </tr>\n",
       "            <tr>\n",
       "                <td align=\"center\" style=\"background-color:#92CCA6\">False</td>\n",
       "                <td align=\"center\" style=\"background-color:#92CCA6\">True</td>\n",
       "                <td align=\"center\" style=\"background-color:#92CCA6\">False</td>\n",
       "                <td align=\"center\"></td>\n",
       "                <td align=\"center\" style=\"background-color:#92CCA6\">False</td>\n",
       "            </tr>\n",
       "        </table>\n",
       "        "
      ]
     },
     "metadata": {},
     "output_type": "display_data"
    },
    {
     "data": {
      "text/html": [
       "\n",
       "        <table>\n",
       "            <tr>\n",
       "                <td><a href=\"#\" onclick=\"$('#oQIMZwWBhW').toggle()\">+</a></td>\n",
       "                <td title=\"Variable name\">Name</td>\n",
       "                <td title=\"Value of parameter\">Value</td>\n",
       "                <td title=\"Parabolic error\">Parab Error</td>\n",
       "                <td title=\"Minos lower error\">Minos Error-</td>\n",
       "                <td title=\"Minos upper error\">Minos Error+</td>\n",
       "                <td title=\"Lower limit of the parameter\">Limit-</td>\n",
       "                <td title=\"Upper limit of the parameter\">Limit+</td>\n",
       "                <td title=\"Is the parameter fixed in the fit\">FIXED</td>\n",
       "            </tr>\n",
       "        \n",
       "            <tr>\n",
       "                <td>1</td>\n",
       "                <td>G</td>\n",
       "                <td>0.662084</td>\n",
       "                <td>0.00303201</td>\n",
       "                <td>0</td>\n",
       "                <td>0</td>\n",
       "                <td></td>\n",
       "                <td></td>\n",
       "                <td></td>\n",
       "            </tr>\n",
       "            \n",
       "            <tr>\n",
       "                <td>2</td>\n",
       "                <td>DG</td>\n",
       "                <td>0.019648</td>\n",
       "                <td>0.0151557</td>\n",
       "                <td>0</td>\n",
       "                <td>0</td>\n",
       "                <td></td>\n",
       "                <td></td>\n",
       "                <td></td>\n",
       "            </tr>\n",
       "            \n",
       "            <tr>\n",
       "                <td>3</td>\n",
       "                <td>beta</td>\n",
       "                <td>0.382224</td>\n",
       "                <td>0.0122173</td>\n",
       "                <td>0</td>\n",
       "                <td>0</td>\n",
       "                <td></td>\n",
       "                <td></td>\n",
       "                <td></td>\n",
       "            </tr>\n",
       "            \n",
       "            </table>\n",
       "        \n",
       "            <pre id=\"oQIMZwWBhW\" style=\"display:none;\">\n",
       "            <textarea rows=\"12\" cols=\"50\" onclick=\"this.select()\" readonly>\\begin{tabular}{|c|r|r|r|r|r|r|r|c|}\n",
       "\\hline\n",
       " & Name & Value & Para Error & Error+ & Error- & Limit+ & Limit- & FIXED\\\\\n",
       "\\hline\n",
       "1 & G & 6.621e-01 & 3.032e-03 &  &  &  &  & \\\\\n",
       "\\hline\n",
       "2 & DG & 1.965e-02 & 1.516e-02 &  &  &  &  & \\\\\n",
       "\\hline\n",
       "3 & $\\beta$ & 3.822e-01 & 1.222e-02 &  &  &  &  & \\\\\n",
       "\\hline\n",
       "\\end{tabular}</textarea>\n",
       "            </pre>\n",
       "            "
      ]
     },
     "metadata": {},
     "output_type": "display_data"
    },
    {
     "data": {
      "text/html": [
       "<hr>"
      ]
     },
     "metadata": {},
     "output_type": "display_data"
    },
    {
     "data": {
      "text/plain": [
       "({'fval': 3.9865021644996643e-07, 'edm': 3.9865341068533205e-07, 'nfcn': 66, 'up': 1.0, 'is_valid': True, 'has_valid_parameters': True, 'has_accurate_covar': True, 'has_posdef_covar': True, 'has_made_posdef_covar': False, 'hesse_failed': False, 'has_covariance': True, 'is_above_max_edm': False, 'has_reached_call_limit': False},\n",
       " [{'number': 0, 'name': 'G', 'value': 0.6620844689090644, 'error': 0.00303200535344773, 'is_const': False, 'is_fixed': False, 'has_limits': False, 'has_lower_limit': False, 'has_upper_limit': False, 'lower_limit': 0.0, 'upper_limit': 0.0},\n",
       "  {'number': 1, 'name': 'DG', 'value': 0.019647999460563417, 'error': 0.015155670499890245, 'is_const': False, 'is_fixed': False, 'has_limits': False, 'has_lower_limit': False, 'has_upper_limit': False, 'lower_limit': 0.0, 'upper_limit': 0.0},\n",
       "  {'number': 2, 'name': 'beta', 'value': 0.38222394796865544, 'error': 0.012217301384286706, 'is_const': False, 'is_fixed': False, 'has_limits': False, 'has_lower_limit': False, 'has_upper_limit': False, 'lower_limit': 0.0, 'upper_limit': 0.0}])"
      ]
     },
     "execution_count": 51,
     "metadata": {},
     "output_type": "execute_result"
    }
   ],
   "source": [
    "m = Minuit(fcn_cms, G = 0.66, DG = 0.02)\n",
    "m.migrad()"
   ]
  },
  {
   "cell_type": "markdown",
   "metadata": {},
   "source": [
    "Correlation between $\\Gamma$ and $\\Delta\\Gamma$"
   ]
  },
  {
   "cell_type": "code",
   "execution_count": 52,
   "metadata": {},
   "outputs": [
    {
     "name": "stdout",
     "output_type": "stream",
     "text": [
      "0.42711747016315316\n"
     ]
    }
   ],
   "source": [
    "rho = m.covariance[('G', 'DG')]/m.errors['G']/m.errors['DG']\n",
    "print(rho)"
   ]
  },
  {
   "cell_type": "markdown",
   "metadata": {},
   "source": [
    "Check that $\\beta$ has not changed"
   ]
  },
  {
   "cell_type": "code",
   "execution_count": 53,
   "metadata": {
    "scrolled": true
   },
   "outputs": [
    {
     "name": "stdout",
     "output_type": "stream",
     "text": [
      "beta = 21.9+/-0.7\n"
     ]
    }
   ],
   "source": [
    "print(\"beta =\",ufloat(m.values['beta']*180/np.pi,m.errors['beta']*180/np.pi))"
   ]
  },
  {
   "cell_type": "markdown",
   "metadata": {},
   "source": [
    "Compute $\\Delta\\Gamma/\\Gamma$. Use uncertainties python package to combine the uncertainies (accounting for the correlation between G and DG has no impact here since the uncertainty on DG dominates)."
   ]
  },
  {
   "cell_type": "code",
   "execution_count": 54,
   "metadata": {},
   "outputs": [
    {
     "name": "stdout",
     "output_type": "stream",
     "text": [
      "G    = 0.6621+/-0.0030\n",
      "DG   = 0.020+/-0.015\n",
      "DG/G = 0.030+/-0.023\n"
     ]
    }
   ],
   "source": [
    "(G, DG) = correlated_values([m.values['G'], m.values['DG']], [(m.errors['G']*m.errors['G'],rho*m.errors['G']*m.errors['DG']),(rho*m.errors['G']*m.errors['DG'],m.errors['DG']*m.errors['DG'])])\n",
    "print(\"G    =\",G)\n",
    "print(\"DG   =\",DG)\n",
    "print(\"DG/G =\",DG/G)"
   ]
  },
  {
   "cell_type": "markdown",
   "metadata": {},
   "source": [
    "The published CMS results are\n",
    "\\begin{equation}\n",
    "\\Gamma              = 0.662 \\pm 0.003\\ (stat) \\pm 0.003\\ (syst) = 0.662 \\pm 0.004\\\\\n",
    "\\Delta\\Gamma        = 0.023 \\pm 0.015\\ (stat) \\pm 0.016\\ (syst) = 0.023 \\pm 0.022\\\\\n",
    "\\Delta\\Gamma/\\Gamma = 0.034 \\pm 0.023\\ (stat) \\pm 0.024\\ (syst) = 0.034 \\pm 0.033\n",
    "\\end{equation}"
   ]
  },
  {
   "cell_type": "markdown",
   "metadata": {},
   "source": [
    "Why are the central values and uncertainties different for $\\Delta\\Gamma$ (and, by extension, $\\Delta\\Gamma/\\Gamma$)? Can play with the assumptions about which uncertainties are correlated to see what difference it makes."
   ]
  },
  {
   "cell_type": "markdown",
   "metadata": {},
   "source": [
    "Note that if I turn off all systematic uncertainties I get\n",
    "\\begin{equation}\n",
    "\\Gamma              = 0.6621 \\pm 0.0026\\ (stat)\\\\\n",
    "\\Delta\\Gamma        = 0.020 \\pm 0.013\\ (stat)\\\\\n",
    "\\Delta\\Gamma/\\Gamma = 0.030 \\pm 0.020\\ (stat)\n",
    "\\end{equation}"
   ]
  },
  {
   "cell_type": "code",
   "execution_count": null,
   "metadata": {},
   "outputs": [],
   "source": []
  }
 ],
 "metadata": {
  "kernelspec": {
   "display_name": "Python 3",
   "language": "python",
   "name": "python3"
  },
  "language_info": {
   "codemirror_mode": {
    "name": "ipython",
    "version": 3
   },
   "file_extension": ".py",
   "mimetype": "text/x-python",
   "name": "python",
   "nbconvert_exporter": "python",
   "pygments_lexer": "ipython3",
   "version": "3.6.3"
  }
 },
 "nbformat": 4,
 "nbformat_minor": 2
}
